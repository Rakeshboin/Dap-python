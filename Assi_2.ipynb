{
  "nbformat": 4,
  "nbformat_minor": 0,
  "metadata": {
    "colab": {
      "provenance": [],
      "authorship_tag": "ABX9TyOR01jLekWZWC9iJmZImYN/",
      "include_colab_link": true
    },
    "kernelspec": {
      "name": "python3",
      "display_name": "Python 3"
    },
    "language_info": {
      "name": "python"
    }
  },
  "cells": [
    {
      "cell_type": "markdown",
      "metadata": {
        "id": "view-in-github",
        "colab_type": "text"
      },
      "source": [
        "<a href=\"https://colab.research.google.com/github/Rakeshboin/Dap-python/blob/main/Assi_2.ipynb\" target=\"_parent\"><img src=\"https://colab.research.google.com/assets/colab-badge.svg\" alt=\"Open In Colab\"/></a>"
      ]
    },
    {
      "cell_type": "code",
      "execution_count": null,
      "metadata": {
        "id": "1-fqc8RI7YSZ"
      },
      "outputs": [],
      "source": []
    },
    {
      "cell_type": "markdown",
      "metadata": {
        "id": "50128f0a"
      },
      "source": [
        "# Task\n",
        "Analyze the provided financial data for a retail chain with three stores (A, B, and C) and three product categories (Groceries, Clothing, and Electronics). Prepare a 3x3 revenue matrix and a 3x3 expenses matrix. Calculate the net revenue matrix. Adjust the revenue matrix for an 8% inflation factor and transpose the adjusted matrix. Interpret the results to identify the best performing store and category combination and the most profitable store overall."
      ]
    },
    {
      "cell_type": "markdown",
      "metadata": {
        "id": "715bd630"
      },
      "source": [
        "## Revenue matrix preparation\n",
        "\n",
        "### Subtask:\n",
        "Create a 3x3 matrix representing monthly revenue for each store and product category.\n"
      ]
    },
    {
      "cell_type": "markdown",
      "metadata": {
        "id": "97a09f23"
      },
      "source": [
        "**Reasoning**:\n",
        "Create a list of lists with the revenue data and convert it to a NumPy array as requested by the subtask.\n",
        "\n"
      ]
    },
    {
      "cell_type": "code",
      "metadata": {
        "colab": {
          "base_uri": "https://localhost:8080/"
        },
        "id": "67491023",
        "outputId": "0c5d5a6c-b9d9-426d-d621-f5d7ffd1c8f1"
      },
      "source": [
        "import numpy as np\n",
        "\n",
        "# Revenue data (Store A, B, C) x (Groceries, Clothing, Electronics)\n",
        "revenue_data = [\n",
        "    [5000, 3000, 2000],  # Store A\n",
        "    [6000, 4500, 3500],  # Store B\n",
        "    [5500, 4000, 3000]   # Store C\n",
        "]\n",
        "\n",
        "# Convert the list of lists to a NumPy array\n",
        "revenue_matrix = np.array(revenue_data)\n",
        "\n",
        "print(\"Revenue Matrix:\")\n",
        "print(revenue_matrix)"
      ],
      "execution_count": 1,
      "outputs": [
        {
          "output_type": "stream",
          "name": "stdout",
          "text": [
            "Revenue Matrix:\n",
            "[[5000 3000 2000]\n",
            " [6000 4500 3500]\n",
            " [5500 4000 3000]]\n"
          ]
        }
      ]
    },
    {
      "cell_type": "markdown",
      "metadata": {
        "id": "79159f60"
      },
      "source": [
        "## Expenses matrix preparation\n",
        "\n",
        "### Subtask:\n",
        "Create a 3x3 matrix representing monthly operational expenses for each store and product category.\n"
      ]
    },
    {
      "cell_type": "markdown",
      "metadata": {
        "id": "4acb494d"
      },
      "source": [
        "**Reasoning**:\n",
        "Create a list of lists for the expenses data, convert it to a NumPy array, and then print the array.\n",
        "\n"
      ]
    },
    {
      "cell_type": "code",
      "metadata": {
        "colab": {
          "base_uri": "https://localhost:8080/"
        },
        "id": "22111f9a",
        "outputId": "228b17fc-a7eb-4756-d4c4-4ba64ddfe2b5"
      },
      "source": [
        "# Expenses data (Store A, B, C) x (Groceries, Clothing, Electronics)\n",
        "expenses_data = [\n",
        "    [2000, 1500, 1000],  # Store A\n",
        "    [2500, 2000, 1500],  # Store B\n",
        "    [2200, 1800, 1200]   # Store C\n",
        "]\n",
        "\n",
        "# Convert the list of lists to a NumPy array\n",
        "expenses_matrix = np.array(expenses_data)\n",
        "\n",
        "print(\"\\nExpenses Matrix:\")\n",
        "print(expenses_matrix)"
      ],
      "execution_count": 2,
      "outputs": [
        {
          "output_type": "stream",
          "name": "stdout",
          "text": [
            "\n",
            "Expenses Matrix:\n",
            "[[2000 1500 1000]\n",
            " [2500 2000 1500]\n",
            " [2200 1800 1200]]\n"
          ]
        }
      ]
    },
    {
      "cell_type": "markdown",
      "metadata": {
        "id": "e09f8852"
      },
      "source": [
        "## Calculate net revenue\n",
        "\n",
        "### Subtask:\n",
        "Subtract the expenses matrix from the revenue matrix to find the net revenue for each category in each store.\n"
      ]
    },
    {
      "cell_type": "markdown",
      "metadata": {
        "id": "02bab46d"
      },
      "source": [
        "**Reasoning**:\n",
        "Subtract the expenses matrix from the revenue matrix to calculate the net revenue matrix and then print the result.\n",
        "\n"
      ]
    },
    {
      "cell_type": "code",
      "metadata": {
        "colab": {
          "base_uri": "https://localhost:8080/"
        },
        "id": "40f5ad89",
        "outputId": "67d3d069-ab53-4ba9-b680-79118c0f87e1"
      },
      "source": [
        "# Subtract the expenses matrix from the revenue matrix to find the net revenue\n",
        "net_revenue_matrix = revenue_matrix - expenses_matrix\n",
        "\n",
        "# Print the net revenue matrix\n",
        "print(\"\\nNet Revenue Matrix:\")\n",
        "print(net_revenue_matrix)"
      ],
      "execution_count": 3,
      "outputs": [
        {
          "output_type": "stream",
          "name": "stdout",
          "text": [
            "\n",
            "Net Revenue Matrix:\n",
            "[[3000 1500 1000]\n",
            " [3500 2500 2000]\n",
            " [3300 2200 1800]]\n"
          ]
        }
      ]
    },
    {
      "cell_type": "markdown",
      "metadata": {
        "id": "e960aed6"
      },
      "source": [
        "## Adjust for inflation\n",
        "\n",
        "### Subtask:\n",
        "Multiply the revenue matrix by an inflation factor of 1.08 to simulate future pricing adjustments.\n"
      ]
    },
    {
      "cell_type": "markdown",
      "metadata": {
        "id": "edcc3172"
      },
      "source": [
        "**Reasoning**:\n",
        "Multiply the revenue matrix by the inflation factor to calculate the adjusted revenue matrix and then print it.\n",
        "\n"
      ]
    },
    {
      "cell_type": "code",
      "metadata": {
        "colab": {
          "base_uri": "https://localhost:8080/"
        },
        "id": "e91eded8",
        "outputId": "2eb3a84a-7712-4aed-a96b-aa0c8cb1768f"
      },
      "source": [
        "# Multiply the revenue matrix by the inflation factor\n",
        "inflation_factor = 1.08\n",
        "adjusted_revenue_matrix = revenue_matrix * inflation_factor\n",
        "\n",
        "# Print the adjusted revenue matrix\n",
        "print(\"\\nAdjusted Revenue Matrix (with 8% inflation):\")\n",
        "print(adjusted_revenue_matrix)"
      ],
      "execution_count": 4,
      "outputs": [
        {
          "output_type": "stream",
          "name": "stdout",
          "text": [
            "\n",
            "Adjusted Revenue Matrix (with 8% inflation):\n",
            "[[5400. 3240. 2160.]\n",
            " [6480. 4860. 3780.]\n",
            " [5940. 4320. 3240.]]\n"
          ]
        }
      ]
    },
    {
      "cell_type": "markdown",
      "metadata": {
        "id": "b9feada6"
      },
      "source": [
        "## Transpose the adjusted matrix\n",
        "\n",
        "### Subtask:\n",
        "Transpose the inflation-adjusted revenue matrix to view revenue per product category across stores.\n"
      ]
    },
    {
      "cell_type": "markdown",
      "metadata": {
        "id": "b679f56e"
      },
      "source": [
        "**Reasoning**:\n",
        "Transpose the adjusted revenue matrix and print it with a descriptive label.\n",
        "\n"
      ]
    },
    {
      "cell_type": "code",
      "metadata": {
        "colab": {
          "base_uri": "https://localhost:8080/"
        },
        "id": "c86cd1a0",
        "outputId": "ce5dadee-0d68-474a-9c29-077cb909d145"
      },
      "source": [
        "# Transpose the adjusted_revenue_matrix\n",
        "transposed_adjusted_revenue_matrix = adjusted_revenue_matrix.T\n",
        "\n",
        "# Print the transposed adjusted revenue matrix\n",
        "print(\"\\nTransposed Adjusted Revenue Matrix (Revenue per Category across Stores):\")\n",
        "print(transposed_adjusted_revenue_matrix)"
      ],
      "execution_count": 5,
      "outputs": [
        {
          "output_type": "stream",
          "name": "stdout",
          "text": [
            "\n",
            "Transposed Adjusted Revenue Matrix (Revenue per Category across Stores):\n",
            "[[5400. 6480. 5940.]\n",
            " [3240. 4860. 4320.]\n",
            " [2160. 3780. 3240.]]\n"
          ]
        }
      ]
    },
    {
      "cell_type": "markdown",
      "metadata": {
        "id": "6c5d539e"
      },
      "source": [
        "## Interpret the results\n",
        "\n",
        "### Subtask:\n",
        "Analyze the transposed matrix to identify the best performing store and category combination and determine the most profitable store overall.\n"
      ]
    },
    {
      "cell_type": "markdown",
      "metadata": {
        "id": "e3eca860"
      },
      "source": [
        "**Reasoning**:\n",
        "Analyze the transposed adjusted revenue matrix to find the best performing store and category combination and the most profitable store overall.\n",
        "\n"
      ]
    },
    {
      "cell_type": "code",
      "metadata": {
        "colab": {
          "base_uri": "https://localhost:8080/"
        },
        "id": "5619a586",
        "outputId": "1a3971ee-522c-4e6f-c0f5-ae441d482dfe"
      },
      "source": [
        "# Find the highest value in the transposed adjusted revenue matrix\n",
        "max_revenue = np.max(transposed_adjusted_revenue_matrix)\n",
        "\n",
        "# Find the index of the highest value\n",
        "max_index = np.argmax(transposed_adjusted_revenue_matrix)\n",
        "\n",
        "# Determine the row and column corresponding to the highest value\n",
        "# Rows represent categories (0: Groceries, 1: Clothing, 2: Electronics)\n",
        "# Columns represent stores (0: A, 1: B, 2: C)\n",
        "row_index, col_index = np.unravel_index(max_index, transposed_adjusted_revenue_matrix.shape)\n",
        "\n",
        "# Map indices to category and store names\n",
        "categories = ['Groceries', 'Clothing', 'Electronics']\n",
        "stores = ['A', 'B', 'C']\n",
        "\n",
        "best_category = categories[row_index]\n",
        "best_store = stores[col_index]\n",
        "\n",
        "print(f\"\\nBest performing store and category combination (inflation-adjusted revenue):\")\n",
        "print(f\"Store: {best_store}, Category: {best_category}, Revenue: {max_revenue:.2f}\")\n",
        "\n",
        "# Calculate total inflation-adjusted revenue for each store\n",
        "total_revenue_per_store = np.sum(transposed_adjusted_revenue_matrix, axis=0)\n",
        "\n",
        "# Find the index of the store with the highest total revenue\n",
        "most_profitable_store_index = np.argmax(total_revenue_per_store)\n",
        "\n",
        "# Determine the most profitable store\n",
        "most_profitable_store = stores[most_profitable_store_index]\n",
        "\n",
        "print(\"\\nTotal inflation-adjusted revenue per store:\")\n",
        "for i in range(len(stores)):\n",
        "    print(f\"Store {stores[i]}: {total_revenue_per_store[i]:.2f}\")\n",
        "\n",
        "print(f\"\\nMost profitable store overall (based on total inflation-adjusted revenue): {most_profitable_store}\")"
      ],
      "execution_count": 6,
      "outputs": [
        {
          "output_type": "stream",
          "name": "stdout",
          "text": [
            "\n",
            "Best performing store and category combination (inflation-adjusted revenue):\n",
            "Store: B, Category: Groceries, Revenue: 6480.00\n",
            "\n",
            "Total inflation-adjusted revenue per store:\n",
            "Store A: 10800.00\n",
            "Store B: 15120.00\n",
            "Store C: 13500.00\n",
            "\n",
            "Most profitable store overall (based on total inflation-adjusted revenue): B\n"
          ]
        }
      ]
    },
    {
      "cell_type": "markdown",
      "metadata": {
        "id": "0890f200"
      },
      "source": [
        "## Summary:\n",
        "\n",
        "### Q&A\n",
        "\n",
        "*   **What is the best performing store and category combination based on inflation-adjusted revenue?**\n",
        "    The best performing combination is Store B in the Groceries category, with an inflation-adjusted revenue of \\$6480.00.\n",
        "*   **Which is the most profitable store overall, based on total inflation-adjusted revenue?**\n",
        "    The most profitable store overall is Store B.\n",
        "\n",
        "### Data Analysis Key Findings\n",
        "\n",
        "*   The initial revenue matrix was:\n",
        "    ```\n",
        "    [[5000 3000 2000]\n",
        "     [6000 4500 3500]\n",
        "     [5500 4000 3000]]\n",
        "    ```\n",
        "*   The initial expenses matrix was:\n",
        "    ```\n",
        "    [[2000 1500 1000]\n",
        "     [2500 2000 1500]\n",
        "     [2200 1800 1200]]\n",
        "    ```\n",
        "*   The net revenue matrix (Revenue - Expenses) was calculated as:\n",
        "    ```\n",
        "    [[3000 1500 1000]\n",
        "     [3500 2500 2000]\n",
        "     [3300 2200 1800]]\n",
        "    ```\n",
        "*   The revenue matrix adjusted for an 8% inflation factor was:\n",
        "    ```\n",
        "    [[5400. 3240. 2160.]\n",
        "     [6480. 4860. 3780.]\n",
        "     [5940. 4320. 3240.]]\n",
        "    ```\n",
        "*   The transposed adjusted revenue matrix, showing revenue per category across stores, was:\n",
        "    ```\n",
        "    [[5400. 6480. 5940.]\n",
        "     [3240. 4860. 4320.]\n",
        "     [2160. 3780. 3240.]]\n",
        "    ```\n",
        "*   The total inflation-adjusted revenue per store was: Store A: \\$10800.00, Store B: \\$15120.00, Store C: \\$13500.00.\n",
        "\n",
        "### Insights or Next Steps\n",
        "\n",
        "*   Store B demonstrates strong performance in the Groceries category and is the most profitable store overall based on current and inflation-adjusted revenue.\n",
        "*   Further analysis could involve examining the net revenue matrix to understand the profitability of each category within each store and identifying areas for cost optimization.\n"
      ]
    }
  ]
}