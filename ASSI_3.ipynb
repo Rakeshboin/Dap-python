{
  "nbformat": 4,
  "nbformat_minor": 0,
  "metadata": {
    "colab": {
      "provenance": [],
      "authorship_tag": "ABX9TyOGtqHYKtWBRK0IZjJhX8wx",
      "include_colab_link": true
    },
    "kernelspec": {
      "name": "python3",
      "display_name": "Python 3"
    },
    "language_info": {
      "name": "python"
    }
  },
  "cells": [
    {
      "cell_type": "markdown",
      "metadata": {
        "id": "view-in-github",
        "colab_type": "text"
      },
      "source": [
        "<a href=\"https://colab.research.google.com/github/Rakeshboin/Dap-python/blob/main/ASSI_3.ipynb\" target=\"_parent\"><img src=\"https://colab.research.google.com/assets/colab-badge.svg\" alt=\"Open In Colab\"/></a>"
      ]
    },
    {
      "cell_type": "code",
      "execution_count": null,
      "metadata": {
        "id": "MMpc9yQz64pr"
      },
      "outputs": [],
      "source": []
    },
    {
      "cell_type": "markdown",
      "metadata": {
        "id": "3d42102a"
      },
      "source": [
        "# Task\n",
        "Visualize the relationship between the counts of the words \"account\" and \"login\" in spam and non-spam emails using a scatter plot based on the dataset from \"https://www.kaggle.com/datasets/balaka18/email-spam-classification-dataset-csv\". The plot should display spam emails as red stars and non-spam emails as blue circles, with appropriate title, axis labels, and legend."
      ]
    },
    {
      "cell_type": "markdown",
      "metadata": {
        "id": "4e0f439a"
      },
      "source": [
        "## Load the data\n",
        "\n",
        "### Subtask:\n",
        "Load the email data from the provided CSV file into a pandas DataFrame.\n"
      ]
    },
    {
      "cell_type": "markdown",
      "metadata": {
        "id": "4b05cb7a"
      },
      "source": [
        "**Reasoning**:\n",
        "Import pandas and load the dataset from the URL into a DataFrame, then display the head and info of the DataFrame to understand its structure.\n",
        "\n"
      ]
    },
    {
      "cell_type": "code",
      "metadata": {
        "id": "f444dc2f"
      },
      "source": [
        "import pandas as pd\n",
        "\n",
        "# Due to the nature of Kaggle datasets, directly loading from the provided URL as a raw CSV might be challenging without the Kaggle API.\n",
        "# A common way is to download the dataset locally or use the Kaggle API.\n",
        "# Since direct download from the provided URL to a pandas DataFrame is not straightforward for Kaggle datasets,\n",
        "# I will simulate loading the data from a local file path, assuming the dataset has been downloaded.\n",
        "# In a real Kaggle environment, you would use the Kaggle API or upload the dataset.\n",
        "\n",
        "# Assuming the dataset file is named 'emails.csv' after downloading from the provided Kaggle URL.\n",
        "try:\n",
        "    df = pd.read_csv('emails.csv')\n",
        "    print(\"DataFrame head:\")\n",
        "    display(df.head())\n",
        "    print(\"\\nDataFrame info:\")\n",
        "    display(df.info())\n",
        "except FileNotFoundError:\n",
        "    print(\"Error: 'emails.csv' not found. Please make sure the dataset is downloaded and placed in the correct directory.\")\n",
        "except Exception as e:\n",
        "    print(f\"An error occurred: {e}\")"
      ],
      "execution_count": null,
      "outputs": []
    },
    {
      "cell_type": "markdown",
      "metadata": {
        "id": "a8a1963a"
      },
      "source": [
        "## Load the data\n",
        "\n",
        "### Subtask:\n",
        "Retry loading the email data from the provided CSV file into a pandas DataFrame, ensuring the dataset file is accessible.\n"
      ]
    },
    {
      "cell_type": "markdown",
      "metadata": {
        "id": "f510a9ca"
      },
      "source": [
        "**Reasoning**:\n",
        "Attempt to load the data from the specified CSV file into a pandas DataFrame and display its head and info to confirm successful loading.\n",
        "\n"
      ]
    },
    {
      "cell_type": "code",
      "metadata": {
        "colab": {
          "base_uri": "https://localhost:8080/"
        },
        "id": "4c25405f",
        "outputId": "f7b054fb-b72b-4457-efe6-b62a2d9da6bd"
      },
      "source": [
        "import pandas as pd\n",
        "\n",
        "try:\n",
        "    # Assuming the dataset file is named 'emails.csv' after downloading from the provided Kaggle URL.\n",
        "    df = pd.read_csv('emails.csv')\n",
        "    print(\"DataFrame head:\")\n",
        "    display(df.head())\n",
        "    print(\"\\nDataFrame info:\")\n",
        "    display(df.info())\n",
        "except FileNotFoundError:\n",
        "    print(\"Error: 'emails.csv' not found. Please make sure the dataset is downloaded and placed in the correct directory.\")\n",
        "except Exception as e:\n",
        "    print(f\"An error occurred: {e}\")"
      ],
      "execution_count": 1,
      "outputs": [
        {
          "output_type": "stream",
          "name": "stdout",
          "text": [
            "Error: 'emails.csv' not found. Please make sure the dataset is downloaded and placed in the correct directory.\n"
          ]
        }
      ]
    },
    {
      "cell_type": "markdown",
      "metadata": {
        "id": "afa2f23c"
      },
      "source": [
        "## Load the data\n",
        "\n",
        "### Subtask:\n",
        "Retry loading the email data from the provided CSV file into a pandas DataFrame, ensuring the dataset file is accessible and providing clear instructions on how to make it available if not.\n"
      ]
    },
    {
      "cell_type": "markdown",
      "metadata": {
        "id": "cefeb134"
      },
      "source": [
        "**Reasoning**:\n",
        "Attempt to load the data from the CSV file and display the head and info of the DataFrame, including error handling for FileNotFoundError.\n",
        "\n"
      ]
    },
    {
      "cell_type": "code",
      "metadata": {
        "colab": {
          "base_uri": "https://localhost:8080/"
        },
        "id": "9a29911b",
        "outputId": "67fec4e7-b287-431e-a292-057a688bbcd9"
      },
      "source": [
        "try:\n",
        "    # Attempt to read the CSV file into a pandas DataFrame.\n",
        "    df = pd.read_csv('emails.csv')\n",
        "\n",
        "    # Display the head and information of the loaded DataFrame.\n",
        "    print(\"DataFrame head:\")\n",
        "    display(df.head())\n",
        "    print(\"\\nDataFrame info:\")\n",
        "    display(df.info())\n",
        "\n",
        "except FileNotFoundError:\n",
        "    # Handle FileNotFoundError and print instructions.\n",
        "    print(\"Error: 'emails.csv' not found. Please make sure the dataset is downloaded from\")\n",
        "    print(\"https://www.kaggle.com/datasets/balaka18/email-spam-classification-dataset-csv\")\n",
        "    print(\"and uploaded to this environment's working directory.\")\n",
        "except Exception as e:\n",
        "    # Handle any other potential errors.\n",
        "    print(f\"An error occurred: {e}\")"
      ],
      "execution_count": 2,
      "outputs": [
        {
          "output_type": "stream",
          "name": "stdout",
          "text": [
            "Error: 'emails.csv' not found. Please make sure the dataset is downloaded from\n",
            "https://www.kaggle.com/datasets/balaka18/email-spam-classification-dataset-csv\n",
            "and uploaded to this environment's working directory.\n"
          ]
        }
      ]
    },
    {
      "cell_type": "markdown",
      "metadata": {
        "id": "a5a93453"
      },
      "source": [
        "## Load the data\n",
        "\n",
        "### Subtask:\n",
        "Retry loading the email data from the provided CSV file into a pandas DataFrame, ensuring the dataset file is accessible by providing instructions on how to make it available if not found and adding a check for the presence of the file before attempting to load.\n"
      ]
    },
    {
      "cell_type": "markdown",
      "metadata": {
        "id": "a3e0160a"
      },
      "source": [
        "**Reasoning**:\n",
        "Check for the existence of the file and load the data if found, otherwise provide instructions.\n",
        "\n"
      ]
    },
    {
      "cell_type": "code",
      "metadata": {
        "colab": {
          "base_uri": "https://localhost:8080/"
        },
        "id": "13af3726",
        "outputId": "6d2021ca-3948-4a04-8097-6f7ace1981de"
      },
      "source": [
        "import os\n",
        "\n",
        "file_path = 'emails.csv'\n",
        "\n",
        "if os.path.exists(file_path):\n",
        "    try:\n",
        "        df = pd.read_csv(file_path)\n",
        "        print(\"DataFrame head:\")\n",
        "        display(df.head())\n",
        "        print(\"\\nDataFrame info:\")\n",
        "        display(df.info())\n",
        "    except Exception as e:\n",
        "        print(f\"An error occurred while loading the file: {e}\")\n",
        "else:\n",
        "    print(f\"Error: '{file_path}' not found. Please make sure the dataset is downloaded from\")\n",
        "    print(\"https://www.kaggle.com/datasets/balaka18/email-spam-classification-dataset-csv\")\n",
        "    print(f\"and uploaded to this environment's working directory as '{file_path}'.\")"
      ],
      "execution_count": 3,
      "outputs": [
        {
          "output_type": "stream",
          "name": "stdout",
          "text": [
            "Error: 'emails.csv' not found. Please make sure the dataset is downloaded from\n",
            "https://www.kaggle.com/datasets/balaka18/email-spam-classification-dataset-csv\n",
            "and uploaded to this environment's working directory as 'emails.csv'.\n"
          ]
        }
      ]
    },
    {
      "cell_type": "markdown",
      "metadata": {
        "id": "5f706b9a"
      },
      "source": [
        "## Process text\n",
        "\n",
        "### Subtask:\n",
        "Count the occurrences of \"account\" and \"login\" in each email's text.\n"
      ]
    },
    {
      "cell_type": "markdown",
      "metadata": {
        "id": "231f5b2e"
      },
      "source": [
        "**Reasoning**:\n",
        "Define a function to count word occurrences and apply it to the DataFrame to create new columns.\n",
        "\n"
      ]
    },
    {
      "cell_type": "code",
      "metadata": {
        "colab": {
          "base_uri": "https://localhost:8080/",
          "height": 211
        },
        "id": "c74c6664",
        "outputId": "600dae41-3599-4693-ba94-ff09c40858e1"
      },
      "source": [
        "def count_words(text):\n",
        "    \"\"\"\n",
        "    Counts the occurrences of 'account' and 'login' in a given text.\n",
        "\n",
        "    Args:\n",
        "        text: The input string (email text).\n",
        "\n",
        "    Returns:\n",
        "        A tuple containing the counts of 'account' and 'login' (case-insensitive).\n",
        "    \"\"\"\n",
        "    if not isinstance(text, str):\n",
        "        return 0, 0\n",
        "    text = text.lower()\n",
        "    account_count = text.count('account')\n",
        "    login_count = text.count('login')\n",
        "    return account_count, login_count\n",
        "\n",
        "# Apply the function to the 'text' column\n",
        "df[['account_count', 'login_count']] = df['text'].apply(count_words).tolist()\n",
        "\n",
        "# Display the head of the updated DataFrame\n",
        "display(df.head())"
      ],
      "execution_count": 4,
      "outputs": [
        {
          "output_type": "error",
          "ename": "NameError",
          "evalue": "name 'df' is not defined",
          "traceback": [
            "\u001b[0;31m---------------------------------------------------------------------------\u001b[0m",
            "\u001b[0;31mNameError\u001b[0m                                 Traceback (most recent call last)",
            "\u001b[0;32m/tmp/ipython-input-3988016440.py\u001b[0m in \u001b[0;36m<cell line: 0>\u001b[0;34m()\u001b[0m\n\u001b[1;32m     17\u001b[0m \u001b[0;34m\u001b[0m\u001b[0m\n\u001b[1;32m     18\u001b[0m \u001b[0;31m# Apply the function to the 'text' column\u001b[0m\u001b[0;34m\u001b[0m\u001b[0;34m\u001b[0m\u001b[0m\n\u001b[0;32m---> 19\u001b[0;31m \u001b[0mdf\u001b[0m\u001b[0;34m[\u001b[0m\u001b[0;34m[\u001b[0m\u001b[0;34m'account_count'\u001b[0m\u001b[0;34m,\u001b[0m \u001b[0;34m'login_count'\u001b[0m\u001b[0;34m]\u001b[0m\u001b[0;34m]\u001b[0m \u001b[0;34m=\u001b[0m \u001b[0mdf\u001b[0m\u001b[0;34m[\u001b[0m\u001b[0;34m'text'\u001b[0m\u001b[0;34m]\u001b[0m\u001b[0;34m.\u001b[0m\u001b[0mapply\u001b[0m\u001b[0;34m(\u001b[0m\u001b[0mcount_words\u001b[0m\u001b[0;34m)\u001b[0m\u001b[0;34m.\u001b[0m\u001b[0mtolist\u001b[0m\u001b[0;34m(\u001b[0m\u001b[0;34m)\u001b[0m\u001b[0;34m\u001b[0m\u001b[0;34m\u001b[0m\u001b[0m\n\u001b[0m\u001b[1;32m     20\u001b[0m \u001b[0;34m\u001b[0m\u001b[0m\n\u001b[1;32m     21\u001b[0m \u001b[0;31m# Display the head of the updated DataFrame\u001b[0m\u001b[0;34m\u001b[0m\u001b[0;34m\u001b[0m\u001b[0m\n",
            "\u001b[0;31mNameError\u001b[0m: name 'df' is not defined"
          ]
        }
      ]
    },
    {
      "cell_type": "markdown",
      "metadata": {
        "id": "6da02aae"
      },
      "source": [
        "## Process text\n",
        "\n",
        "### Subtask:\n",
        "Count the occurrences of \"account\" and \"login\" in each email's text.\n"
      ]
    },
    {
      "cell_type": "markdown",
      "metadata": {
        "id": "0e087b1a"
      },
      "source": [
        "**Reasoning**:\n",
        "The previous attempt to process the text failed because the DataFrame `df` was not loaded. I need to retry loading the data before proceeding with counting the words. I will use the code from the last successful attempt to load the data, which includes checking for the file and providing instructions if it's not found.\n",
        "\n"
      ]
    },
    {
      "cell_type": "code",
      "metadata": {
        "colab": {
          "base_uri": "https://localhost:8080/"
        },
        "id": "8481af43",
        "outputId": "69f6cd8f-cbf9-4b76-e3cf-677332b53a8d"
      },
      "source": [
        "import os\n",
        "\n",
        "file_path = 'emails.csv'\n",
        "\n",
        "if os.path.exists(file_path):\n",
        "    try:\n",
        "        df = pd.read_csv(file_path)\n",
        "        print(\"DataFrame head:\")\n",
        "        display(df.head())\n",
        "        print(\"\\nDataFrame info:\")\n",
        "        display(df.info())\n",
        "\n",
        "        # Now that the data is loaded, proceed with counting the words.\n",
        "        def count_words(text):\n",
        "            \"\"\"\n",
        "            Counts the occurrences of 'account' and 'login' in a given text.\n",
        "\n",
        "            Args:\n",
        "                text: The input string (email text).\n",
        "\n",
        "            Returns:\n",
        "                A tuple containing the counts of 'account' and 'login' (case-insensitive).\n",
        "            \"\"\"\n",
        "            if not isinstance(text, str):\n",
        "                return 0, 0\n",
        "            text = text.lower()\n",
        "            account_count = text.count('account')\n",
        "            login_count = text.count('login')\n",
        "            return account_count, login_count\n",
        "\n",
        "        # Apply the function to the 'text' column\n",
        "        df[['account_count', 'login_count']] = df['text'].apply(count_words).tolist()\n",
        "\n",
        "        # Display the head of the updated DataFrame\n",
        "        print(\"\\nDataFrame with word counts:\")\n",
        "        display(df.head())\n",
        "\n",
        "    except Exception as e:\n",
        "        print(f\"An error occurred while loading the file or processing the data: {e}\")\n",
        "else:\n",
        "    print(f\"Error: '{file_path}' not found. Please make sure the dataset is downloaded from\")\n",
        "    print(\"https://www.kaggle.com/datasets/balaka18/email-spam-classification-dataset-csv\")\n",
        "    print(f\"and uploaded to this environment's working directory as '{file_path}'.\")"
      ],
      "execution_count": 5,
      "outputs": [
        {
          "output_type": "stream",
          "name": "stdout",
          "text": [
            "Error: 'emails.csv' not found. Please make sure the dataset is downloaded from\n",
            "https://www.kaggle.com/datasets/balaka18/email-spam-classification-dataset-csv\n",
            "and uploaded to this environment's working directory as 'emails.csv'.\n"
          ]
        }
      ]
    },
    {
      "cell_type": "markdown",
      "metadata": {
        "id": "28ae0fc2"
      },
      "source": [
        "## Prepare data for plotting\n",
        "\n",
        "### Subtask:\n",
        "Create separate DataFrames or lists for spam and non-spam emails, including the counts of \"account\" and \"login\".\n"
      ]
    },
    {
      "cell_type": "markdown",
      "metadata": {
        "id": "fdd92100"
      },
      "source": [
        "**Reasoning**:\n",
        "Filter the DataFrame into spam and non-spam based on the 'spam' column and include the calculated counts.\n",
        "\n"
      ]
    },
    {
      "cell_type": "code",
      "metadata": {
        "colab": {
          "base_uri": "https://localhost:8080/",
          "height": 211
        },
        "id": "c57aec5d",
        "outputId": "8f2300b0-9b6b-4c52-ee04-557c473dc48b"
      },
      "source": [
        "# Assuming 'spam' column contains 1 for spam and 0 for non-spam.\n",
        "df_spam = df[df['spam'] == 1].copy()\n",
        "df_non_spam = df[df['spam'] == 0].copy()\n",
        "\n",
        "# Display the head of the new DataFrames to verify the filtering and columns\n",
        "print(\"Spam emails DataFrame head:\")\n",
        "display(df_spam.head())\n",
        "print(\"\\nNon-spam emails DataFrame head:\")\n",
        "display(df_non_spam.head())"
      ],
      "execution_count": 6,
      "outputs": [
        {
          "output_type": "error",
          "ename": "NameError",
          "evalue": "name 'df' is not defined",
          "traceback": [
            "\u001b[0;31m---------------------------------------------------------------------------\u001b[0m",
            "\u001b[0;31mNameError\u001b[0m                                 Traceback (most recent call last)",
            "\u001b[0;32m/tmp/ipython-input-1299067993.py\u001b[0m in \u001b[0;36m<cell line: 0>\u001b[0;34m()\u001b[0m\n\u001b[1;32m      1\u001b[0m \u001b[0;31m# Assuming 'spam' column contains 1 for spam and 0 for non-spam.\u001b[0m\u001b[0;34m\u001b[0m\u001b[0;34m\u001b[0m\u001b[0m\n\u001b[0;32m----> 2\u001b[0;31m \u001b[0mdf_spam\u001b[0m \u001b[0;34m=\u001b[0m \u001b[0mdf\u001b[0m\u001b[0;34m[\u001b[0m\u001b[0mdf\u001b[0m\u001b[0;34m[\u001b[0m\u001b[0;34m'spam'\u001b[0m\u001b[0;34m]\u001b[0m \u001b[0;34m==\u001b[0m \u001b[0;36m1\u001b[0m\u001b[0;34m]\u001b[0m\u001b[0;34m.\u001b[0m\u001b[0mcopy\u001b[0m\u001b[0;34m(\u001b[0m\u001b[0;34m)\u001b[0m\u001b[0;34m\u001b[0m\u001b[0;34m\u001b[0m\u001b[0m\n\u001b[0m\u001b[1;32m      3\u001b[0m \u001b[0mdf_non_spam\u001b[0m \u001b[0;34m=\u001b[0m \u001b[0mdf\u001b[0m\u001b[0;34m[\u001b[0m\u001b[0mdf\u001b[0m\u001b[0;34m[\u001b[0m\u001b[0;34m'spam'\u001b[0m\u001b[0;34m]\u001b[0m \u001b[0;34m==\u001b[0m \u001b[0;36m0\u001b[0m\u001b[0;34m]\u001b[0m\u001b[0;34m.\u001b[0m\u001b[0mcopy\u001b[0m\u001b[0;34m(\u001b[0m\u001b[0;34m)\u001b[0m\u001b[0;34m\u001b[0m\u001b[0;34m\u001b[0m\u001b[0m\n\u001b[1;32m      4\u001b[0m \u001b[0;34m\u001b[0m\u001b[0m\n\u001b[1;32m      5\u001b[0m \u001b[0;31m# Display the head of the new DataFrames to verify the filtering and columns\u001b[0m\u001b[0;34m\u001b[0m\u001b[0;34m\u001b[0m\u001b[0m\n",
            "\u001b[0;31mNameError\u001b[0m: name 'df' is not defined"
          ]
        }
      ]
    },
    {
      "cell_type": "markdown",
      "metadata": {
        "id": "acb0be2c"
      },
      "source": [
        "**Reasoning**:\n",
        "The DataFrame `df` was not defined in the previous step because the file could not be loaded. The previous subtasks failed to load the data. To proceed with filtering, the data needs to be loaded first, along with the word count calculation which was also part of a previous failed subtask.\n",
        "\n"
      ]
    },
    {
      "cell_type": "code",
      "metadata": {
        "colab": {
          "base_uri": "https://localhost:8080/"
        },
        "id": "ZloYSfJf7hrH",
        "outputId": "92b4fb57-210c-49c1-af3d-005854dc9c27"
      },
      "source": [
        "import os\n",
        "import pandas as pd\n",
        "\n",
        "file_path = 'emails.csv'\n",
        "\n",
        "if os.path.exists(file_path):\n",
        "    try:\n",
        "        df = pd.read_csv(file_path)\n",
        "        print(\"DataFrame head:\")\n",
        "        display(df.head())\n",
        "        print(\"\\nDataFrame info:\")\n",
        "        display(df.info())\n",
        "\n",
        "        # Now that the data is loaded, proceed with counting the words.\n",
        "        def count_words(text):\n",
        "            \"\"\"\n",
        "            Counts the occurrences of 'account' and 'login' in a given text.\n",
        "\n",
        "            Args:\n",
        "                text: The input string (email text).\n",
        "\n",
        "            Returns:\n",
        "                A tuple containing the counts of 'account' and 'login' (case-insensitive).\n",
        "            \"\"\"\n",
        "            if not isinstance(text, str):\n",
        "                return 0, 0\n",
        "            text = text.lower()\n",
        "            account_count = text.count('account')\n",
        "            login_count = text.count('login')\n",
        "            return account_count, login_count\n",
        "\n",
        "        # Apply the function to the 'text' column\n",
        "        df[['account_count', 'login_count']] = df['text'].apply(count_words).tolist()\n",
        "\n",
        "        # Display the head of the updated DataFrame\n",
        "        print(\"\\nDataFrame with word counts:\")\n",
        "        display(df.head())\n",
        "\n",
        "        # Now, filter the DataFrame into spam and non-spam\n",
        "        df_spam = df[df['spam'] == 1].copy()\n",
        "        df_non_spam = df[df['spam'] == 0].copy()\n",
        "\n",
        "        # Display the head of the new DataFrames to verify the filtering and columns\n",
        "        print(\"\\nSpam emails DataFrame head:\")\n",
        "        display(df_spam.head())\n",
        "        print(\"\\nNon-spam emails DataFrame head:\")\n",
        "        display(df_non_spam.head())\n",
        "\n",
        "    except Exception as e:\n",
        "        print(f\"An error occurred while loading the file or processing the data: {e}\")\n",
        "else:\n",
        "    print(f\"Error: '{file_path}' not found. Please make sure the dataset is downloaded from\")\n",
        "    print(\"https://www.kaggle.com/datasets/balaka18/email-spam-classification-dataset-csv\")\n",
        "    print(f\"and uploaded to this environment's working directory as '{file_path}'.\")"
      ],
      "execution_count": 11,
      "outputs": [
        {
          "output_type": "stream",
          "name": "stdout",
          "text": [
            "Error: 'emails.csv' not found. Please make sure the dataset is downloaded from\n",
            "https://www.kaggle.com/datasets/balaka18/email-spam-classification-dataset-csv\n",
            "and uploaded to this environment's working directory as 'emails.csv'.\n"
          ]
        }
      ]
    },
    {
      "cell_type": "markdown",
      "metadata": {
        "id": "e9d19d27"
      },
      "source": [
        "## Create the scatter plot\n",
        "\n",
        "### Subtask:\n",
        "Generate a scatter plot with \"account\" counts on the x-axis and \"login\" counts on the y-axis, using different markers and colors for spam and non-spam emails.\n"
      ]
    },
    {
      "cell_type": "markdown",
      "metadata": {
        "id": "80de7b03"
      },
      "source": [
        "**Reasoning**:\n",
        "Since the data loading and processing steps were not successful in previous attempts due to the missing file, I need to include them again before proceeding with the plotting step as the `df_spam` and `df_non_spam` dataframes are not available. I will then generate the scatter plot as requested in the instructions.\n",
        "\n"
      ]
    },
    {
      "cell_type": "code",
      "metadata": {
        "colab": {
          "base_uri": "https://localhost:8080/"
        },
        "id": "b507a761",
        "outputId": "59a504d3-afbc-47e4-cc8c-5c2037053940"
      },
      "source": [
        "import matplotlib.pyplot as plt\n",
        "import os\n",
        "import pandas as pd\n",
        "\n",
        "file_path = 'emails.csv'\n",
        "\n",
        "if os.path.exists(file_path):\n",
        "    try:\n",
        "        df = pd.read_csv(file_path)\n",
        "        print(\"DataFrame head:\")\n",
        "        display(df.head())\n",
        "        print(\"\\nDataFrame info:\")\n",
        "        display(df.info())\n",
        "\n",
        "        # Now that the data is loaded, proceed with counting the words.\n",
        "        def count_words(text):\n",
        "            \"\"\"\n",
        "            Counts the occurrences of 'account' and 'login' in a given text.\n",
        "\n",
        "            Args:\n",
        "                text: The input string (email text).\n",
        "\n",
        "            Returns:\n",
        "                A tuple containing the counts of 'account' and 'login' (case-insensitive).\n",
        "            \"\"\"\n",
        "            if not isinstance(text, str):\n",
        "                return 0, 0\n",
        "            text = text.lower()\n",
        "            account_count = text.count('account')\n",
        "            login_count = text.count('login')\n",
        "            return account_count, login_count\n",
        "\n",
        "        # Apply the function to the 'text' column\n",
        "        df[['account_count', 'login_count']] = df['text'].apply(count_words).tolist()\n",
        "\n",
        "        # Display the head of the updated DataFrame\n",
        "        print(\"\\nDataFrame with word counts:\")\n",
        "        display(df.head())\n",
        "\n",
        "        # Now, filter the DataFrame into spam and non-spam\n",
        "        df_spam = df[df['spam'] == 1].copy()\n",
        "        df_non_spam = df[df['spam'] == 0].copy()\n",
        "\n",
        "        # Display the head of the new DataFrames to verify the filtering and columns\n",
        "        print(\"\\nSpam emails DataFrame head:\")\n",
        "        display(df_spam.head())\n",
        "        print(\"\\nNon-spam emails DataFrame head:\")\n",
        "        display(df_non_spam.head())\n",
        "\n",
        "        # Generate the scatter plot\n",
        "        plt.figure(figsize=(10, 6))\n",
        "\n",
        "        # Scatter plot for spam emails\n",
        "        plt.scatter(df_spam['account_count'], df_spam['login_count'], marker='*', color='red', label='Spam')\n",
        "\n",
        "        # Scatter plot for non-spam emails\n",
        "        plt.scatter(df_non_spam['account_count'], df_non_spam['login_count'], marker='o', color='blue', label='Non-Spam')\n",
        "\n",
        "        plt.title('Relationship between \"account\" and \"login\" Counts in Emails')\n",
        "        plt.xlabel('Count of \"account\"')\n",
        "        plt.ylabel('Count of \"login\"')\n",
        "        plt.legend()\n",
        "        plt.grid(True)\n",
        "        plt.show()\n",
        "\n",
        "\n",
        "    except Exception as e:\n",
        "        print(f\"An error occurred while loading the file or processing the data: {e}\")\n",
        "else:\n",
        "    print(f\"Error: '{file_path}' not found. Please make sure the dataset is downloaded from\")\n",
        "    print(\"https://www.kaggle.com/datasets/balaka18/email-spam-classification-dataset-csv\")\n",
        "    print(f\"and uploaded to this environment's working directory as '{file_path}'.\")"
      ],
      "execution_count": 8,
      "outputs": [
        {
          "output_type": "stream",
          "name": "stdout",
          "text": [
            "Error: 'emails.csv' not found. Please make sure the dataset is downloaded from\n",
            "https://www.kaggle.com/datasets/balaka18/email-spam-classification-dataset-csv\n",
            "and uploaded to this environment's working directory as 'emails.csv'.\n"
          ]
        }
      ]
    },
    {
      "cell_type": "markdown",
      "metadata": {
        "id": "09b7e8eb"
      },
      "source": [
        "## Create the scatter plot\n",
        "\n",
        "### Subtask:\n",
        "Generate a scatter plot with \"account\" counts on the x-axis and \"login\" counts on the y-axis, using different markers and colors for spam and non-spam emails.\n"
      ]
    },
    {
      "cell_type": "markdown",
      "metadata": {
        "id": "3c24c129"
      },
      "source": [
        "**Reasoning**:\n",
        "The previous attempts failed because the dataset file 'emails.csv' was not found. I will include the code to load the data, count the words, filter into spam and non-spam dataframes, and then generate the scatter plot as per the instructions. This includes all the steps outlined in the current subtask.\n",
        "\n"
      ]
    },
    {
      "cell_type": "code",
      "metadata": {
        "colab": {
          "base_uri": "https://localhost:8080/"
        },
        "id": "e05fcd0c",
        "outputId": "1ee6eb3d-1bc8-4f02-ce92-b0a789aacc8a"
      },
      "source": [
        "import matplotlib.pyplot as plt\n",
        "import os\n",
        "import pandas as pd\n",
        "\n",
        "file_path = 'emails.csv'\n",
        "\n",
        "if os.path.exists(file_path):\n",
        "    try:\n",
        "        df = pd.read_csv(file_path)\n",
        "        print(\"DataFrame head:\")\n",
        "        display(df.head())\n",
        "        print(\"\\nDataFrame info:\")\n",
        "        display(df.info())\n",
        "\n",
        "        # Count the occurrences of \"account\" and \"login\"\n",
        "        def count_words(text):\n",
        "            \"\"\"\n",
        "            Counts the occurrences of 'account' and 'login' in a given text.\n",
        "\n",
        "            Args:\n",
        "                text: The input string (email text).\n",
        "\n",
        "            Returns:\n",
        "                A tuple containing the counts of 'account' and 'login' (case-insensitive).\n",
        "            \"\"\"\n",
        "            if not isinstance(text, str):\n",
        "                return 0, 0\n",
        "            text = text.lower()\n",
        "            account_count = text.count('account')\n",
        "            login_count = text.count('login')\n",
        "            return account_count, login_count\n",
        "\n",
        "        df[['account_count', 'login_count']] = df['text'].apply(count_words).tolist()\n",
        "\n",
        "        print(\"\\nDataFrame with word counts:\")\n",
        "        display(df.head())\n",
        "\n",
        "        # Separate spam and non-spam emails\n",
        "        df_spam = df[df['spam'] == 1].copy()\n",
        "        df_non_spam = df[df['spam'] == 0].copy()\n",
        "\n",
        "        print(\"\\nSpam emails DataFrame head:\")\n",
        "        display(df_spam.head())\n",
        "        print(\"\\nNon-spam emails DataFrame head:\")\n",
        "        display(df_non_spam.head())\n",
        "\n",
        "        # Create the scatter plot\n",
        "        plt.figure(figsize=(10, 6))\n",
        "\n",
        "        plt.scatter(df_spam['account_count'], df_spam['login_count'], marker='*', color='red', label='Spam')\n",
        "        plt.scatter(df_non_spam['account_count'], df_non_spam['login_count'], marker='o', color='blue', label='Non-Spam')\n",
        "\n",
        "        plt.title('Relationship between \"account\" and \"login\" Counts in Emails')\n",
        "        plt.xlabel('Count of \"account\"')\n",
        "        plt.ylabel('Count of \"login\"')\n",
        "        plt.legend()\n",
        "        plt.grid(True)\n",
        "        plt.show()\n",
        "\n",
        "    except Exception as e:\n",
        "        print(f\"An error occurred while loading the file or processing the data: {e}\")\n",
        "else:\n",
        "    print(f\"Error: '{file_path}' not found. Please make sure the dataset is downloaded from\")\n",
        "    print(\"https://www.kaggle.com/datasets/balaka18/email-spam-classification-dataset-csv\")\n",
        "    print(f\"and uploaded to this environment's working directory as '{file_path}'.\")"
      ],
      "execution_count": 9,
      "outputs": [
        {
          "output_type": "stream",
          "name": "stdout",
          "text": [
            "Error: 'emails.csv' not found. Please make sure the dataset is downloaded from\n",
            "https://www.kaggle.com/datasets/balaka18/email-spam-classification-dataset-csv\n",
            "and uploaded to this environment's working directory as 'emails.csv'.\n"
          ]
        }
      ]
    },
    {
      "cell_type": "markdown",
      "metadata": {
        "id": "a48c7fb3"
      },
      "source": [
        "## Customize plot\n",
        "\n",
        "### Subtask:\n",
        "Add a title, axis labels, and a legend to the plot.\n"
      ]
    },
    {
      "cell_type": "markdown",
      "metadata": {
        "id": "582d6225"
      },
      "source": [
        "**Reasoning**:\n",
        "The data loading and processing steps from the previous attempts are necessary to create the plot. I will include them again and then add the title, axis labels, and legend to the plot as requested by the current subtask.\n",
        "\n"
      ]
    },
    {
      "cell_type": "code",
      "metadata": {
        "colab": {
          "base_uri": "https://localhost:8080/"
        },
        "id": "12b55872",
        "outputId": "24cf92b6-d031-4cd3-fc35-987472975660"
      },
      "source": [
        "import matplotlib.pyplot as plt\n",
        "import os\n",
        "import pandas as pd\n",
        "\n",
        "file_path = 'emails.csv'\n",
        "\n",
        "if os.path.exists(file_path):\n",
        "    try:\n",
        "        df = pd.read_csv(file_path)\n",
        "        print(\"DataFrame head:\")\n",
        "        display(df.head())\n",
        "        print(\"\\nDataFrame info:\")\n",
        "        display(df.info())\n",
        "\n",
        "        # Count the occurrences of \"account\" and \"login\"\n",
        "        def count_words(text):\n",
        "            \"\"\"\n",
        "            Counts the occurrences of 'account' and 'login' in a given text.\n",
        "\n",
        "            Args:\n",
        "                text: The input string (email text).\n",
        "\n",
        "            Returns:\n",
        "                A tuple containing the counts of 'account' and 'login' (case-insensitive).\n",
        "            \"\"\"\n",
        "            if not isinstance(text, str):\n",
        "                return 0, 0\n",
        "            text = text.lower()\n",
        "            account_count = text.count('account')\n",
        "            login_count = text.count('login')\n",
        "            return account_count, login_count\n",
        "\n",
        "        df[['account_count', 'login_count']] = df['text'].apply(count_words).tolist()\n",
        "\n",
        "        print(\"\\nDataFrame with word counts:\")\n",
        "        display(df.head())\n",
        "\n",
        "        # Separate spam and non-spam emails\n",
        "        df_spam = df[df['spam'] == 1].copy()\n",
        "        df_non_spam = df[df['spam'] == 0].copy()\n",
        "\n",
        "        print(\"\\nSpam emails DataFrame head:\")\n",
        "        display(df_spam.head())\n",
        "        print(\"\\nNon-spam emails DataFrame head:\")\n",
        "        display(df_non_spam.head())\n",
        "\n",
        "        # Create the scatter plot\n",
        "        plt.figure(figsize=(10, 6))\n",
        "\n",
        "        plt.scatter(df_spam['account_count'], df_spam['login_count'], marker='*', color='red', label='Spam')\n",
        "        plt.scatter(df_non_spam['account_count'], df_non_spam['login_count'], marker='o', color='blue', label='Non-Spam')\n",
        "\n",
        "        # Add title, axis labels, and legend\n",
        "        plt.title('Relationship between \"account\" and \"login\" Counts in Emails')\n",
        "        plt.xlabel('Count of \"account\"')\n",
        "        plt.ylabel('Count of \"login\"')\n",
        "        plt.legend()\n",
        "        plt.grid(True)\n",
        "        plt.show()\n",
        "\n",
        "    except Exception as e:\n",
        "        print(f\"An error occurred while loading the file or processing the data: {e}\")\n",
        "else:\n",
        "    print(f\"Error: '{file_path}' not found. Please make sure the dataset is downloaded from\")\n",
        "    print(\"https://www.kaggle.com/datasets/balaka18/email-spam-classification-dataset-csv\")\n",
        "    print(f\"and uploaded to this environment's working directory as '{file_path}'.\")"
      ],
      "execution_count": 10,
      "outputs": [
        {
          "output_type": "stream",
          "name": "stdout",
          "text": [
            "Error: 'emails.csv' not found. Please make sure the dataset is downloaded from\n",
            "https://www.kaggle.com/datasets/balaka18/email-spam-classification-dataset-csv\n",
            "and uploaded to this environment's working directory as 'emails.csv'.\n"
          ]
        }
      ]
    },
    {
      "cell_type": "markdown",
      "metadata": {
        "id": "876f8a01"
      },
      "source": [
        "## Summary:\n",
        "\n",
        "### Data Analysis Key Findings\n",
        "\n",
        "*   The primary obstacle encountered throughout the solving process was the persistent absence of the required dataset file, `emails.csv`, in the execution environment.\n",
        "*   All attempts to load the data using `pd.read_csv` resulted in a `FileNotFoundError`.\n",
        "*   Despite incorporating checks for file existence and including instructions for downloading and uploading the dataset, the file remained inaccessible.\n",
        "*   Consequently, none of the subsequent data processing steps (counting word occurrences, separating spam and non-spam emails) or the final visualization step (creating the scatter plot with customizations) could be successfully executed.\n",
        "\n",
        "### Insights or Next Steps\n",
        "\n",
        "*   The immediate next step is to ensure the `emails.csv` dataset file is correctly downloaded from the specified Kaggle URL and uploaded to the working directory where the Python script is being executed.\n",
        "*   Once the data is accessible, the provided code should successfully load the DataFrame, calculate the word counts, separate the data by spam status, and generate the requested scatter plot with the specified title, axis labels, and legend.\n"
      ]
    }
  ]
}